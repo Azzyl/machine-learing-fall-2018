{
 "cells": [
  {
   "cell_type": "code",
   "execution_count": 9,
   "metadata": {
    "scrolled": true
   },
   "outputs": [
    {
     "name": "stdout",
     "output_type": "stream",
     "text": [
      "true b1 : 2.5\n",
      "true b0 : -7\n",
      "calculated b1 : 2.5451230499852984\n",
      "calculated b0 : -7.144125486986667\n"
     ]
    },
    {
     "data": {
      "image/png": "[encoded data removed]",
      "text/plain": [
       "<Figure size 432x288 with 1 Axes>"
      ]
     },
     "metadata": {},
     "output_type": "display_data"
    }
   ],
   "source": [
    "import pandas as pd\n",
    "import numpy as np\n",
    "import matplotlib.pyplot as plt\n",
    "\n",
    "\n",
    "def generate_data(b1, b0, size, x_range=(-10, 10), noise_mean=0,\n",
    "                  noise_std=1):\n",
    "    \"\"\"\n",
    "    input:\n",
    "    b1, b0 - true parameters of data\n",
    "    size - size of data, numbers of samples\n",
    "    x_range - tuple of (min, max) x-values\n",
    "    noise_mean - noise mean value\n",
    "    noise_std - noise standard deviation\n",
    "\n",
    "    output:\n",
    "    data_x, data_y - data features\n",
    "    \"\"\"\n",
    "    noise = np.random.normal(noise_mean, noise_std, size)\n",
    "    rnd_vals = np.random.rand(size)\n",
    "    data_x = x_range[1] * rnd_vals + x_range[0] * (1 - rnd_vals)\n",
    "    data_y = b1 * data_x + b0 + noise\n",
    "\n",
    "    return data_x, data_y\n",
    "\n",
    "\n",
    "def least_squares(x, y):\n",
    "    \"\"\"\n",
    "    input:\n",
    "    x, y - data features\n",
    "\n",
    "    output:\n",
    "    b1, b0 - predicted parameters of data\n",
    "    \"\"\"\n",
    "    mean_x = x.mean()\n",
    "    mean_y = y.mean()\n",
    "\n",
    "    b1 = np.dot(y - mean_y, x - mean_x) / np.dot(x - mean_x, x - mean_x)\n",
    "    b0 = mean_y - b1 * mean_x\n",
    "\n",
    "    return b1, b0\n",
    "\n",
    "\n",
    "def animate(data_x, data_y, true_b1, true_b0, b1, b0, x_range=(-10, 10),\n",
    "            label=\"Least squares\"):\n",
    "    plt.scatter(data_x, data_y)\n",
    "    plt.plot([x_range[0], x_range[1]],\n",
    "             [x_range[0] * true_b1 + true_b0, x_range[1] * true_b1 + true_b0],\n",
    "             c=\"r\", linewidth=2, label=\"True\")\n",
    "    plt.plot([x_range[0], x_range[1]],\n",
    "             [x_range[0] * b1 + b0, x_range[1] * b1 + b0],\n",
    "             c=\"g\", linewidth=2, label=label)\n",
    "    plt.legend()\n",
    "    plt.show()\n",
    "\n",
    "\n",
    "### Parameters for data generation ###\n",
    "true_b1 = 2.5\n",
    "true_b0 = -7\n",
    "size = 100\n",
    "x_range = (0, 10)\n",
    "noise_mean = 0\n",
    "noise_std = 1\n",
    "\n",
    "# Generate the data\n",
    "data_x, data_y = generate_data(true_b1, true_b0, size,\n",
    "                               x_range=x_range,\n",
    "                               noise_mean=noise_mean,\n",
    "                               noise_std=noise_std)\n",
    "\n",
    "# Predict data's parameters\n",
    "b1, b0 = least_squares(data_x, data_y)\n",
    "\n",
    "# Visualize the data\n",
    "print(\"true b1 : {}\\ntrue b0 : {}\".format(true_b1, true_b0))\n",
    "print(\"calculated b1 : {}\\ncalculated b0 : {}\".format(b1, b0))\n",
    "animate(data_x, data_y, true_b1, true_b0, b1, b0, x_range=x_range)\n"
   ]
  }
 ],
 "metadata": {
  "kernelspec": {
   "display_name": "Python 3",
   "language": "python",
   "name": "python3"
  },
  "language_info": {
   "codemirror_mode": {
    "name": "ipython",
    "version": 3
   },
   "file_extension": ".py",
   "mimetype": "text/x-python",
   "name": "python",
   "nbconvert_exporter": "python",
   "pygments_lexer": "ipython3",
   "version": "3.7.0"
  }
 },
 "nbformat": 4,
 "nbformat_minor": 2
}
